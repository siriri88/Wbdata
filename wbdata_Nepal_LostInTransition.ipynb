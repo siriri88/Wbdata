import wbdata
import pandas as pd
import datetime

iEcon = {'EF.EFM.RANK.XD':'Economic Fitness Ranking', 'DP.DOD.DECT.CR.CG.Z1':'Gross Central Government Debt','NE.EXP.GNFS.ZS':'Exports of Goods and Services', 'GC.XPN.TOTL.GD.ZS': 'Expense', '6.0.GDP_current': 'GDP', '6.0.GDPpc_constant': 'GDP per capita', '5.51.01.10.gdp': 'GDP per capita growth', '6.0.GNIpc': 'GNI per capita', 'NE.IMP.GNFS.ZS': 'Imports', 'BX.TRF.PWKR.GD.ZS': 'Workers Remittance'}#,'BX.TRF.PWKR.DT.GD.ZS':'Personal remittance' } 
date_range = (datetime.datetime(1995, 1, 1), datetime.datetime(2017, 1, 1))

df_Econ = wbdata.get_dataframe(iEcon, country='NPL', data_date = date_range,  convert_date=False) #getting the required indicators

